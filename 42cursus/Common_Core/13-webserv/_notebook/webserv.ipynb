{
 "cells": [
  {
   "cell_type": "markdown",
   "metadata": {},
   "source": [
    "# webserv"
   ]
  },
  {
   "cell_type": "markdown",
   "metadata": {},
   "source": [
    "## Directives"
   ]
  },
  {
   "cell_type": "markdown",
   "metadata": {},
   "source": [
    "### http"
   ]
  },
  {
   "cell_type": "code",
   "execution_count": null,
   "metadata": {
    "vscode": {
     "languageId": "shellscript"
    }
   },
   "outputs": [],
   "source": [
    "Syntax:\t    http { ... }\n",
    "Default:\t—\n",
    "Context:\tmain"
   ]
  },
  {
   "cell_type": "markdown",
   "metadata": {},
   "source": [
    "An HTTP block specifies global configuration settings for the HTTP server. This can include settings such as the number of worker processes to run, the maximum number of connections allowed, and the location of log files.\n",
    "\n",
    "Here is an example of an HTTP block in an NGINX configuration file:"
   ]
  },
  {
   "cell_type": "code",
   "execution_count": null,
   "metadata": {
    "vscode": {
     "languageId": "shellscript"
    }
   },
   "outputs": [],
   "source": [
    "http {\n",
    "    worker_processes 4;\n",
    "    worker_rlimit_nofile 8192;\n",
    "    client_max_body_size 128m;\n",
    "\n",
    "    access_log /var/log/nginx/access.log;\n",
    "    error_log /var/log/nginx/error.log;\n",
    "\n",
    "    server {\n",
    "        ...\n",
    "    }\n",
    "}"
   ]
  },
  {
   "cell_type": "markdown",
   "metadata": {},
   "source": [
    "### server\n",
    "\n"
   ]
  },
  {
   "cell_type": "code",
   "execution_count": null,
   "metadata": {
    "vscode": {
     "languageId": "shellscript"
    }
   },
   "outputs": [],
   "source": [
    "Syntax:\t    server { ... }\n",
    "Default:\t—\n",
    "Context:\thttp"
   ]
  },
  {
   "cell_type": "markdown",
   "metadata": {},
   "source": [
    "The server directive is employed to define specific settings associated with an individual server. <br>\n",
    "This configuration block allows the specification of parameters such as the listening port, server name, rules for handling requests, and other context-relevant settings for a virtual server. <br>\n",
    "The server directive is crucial for setting up virtual servers within a web server instance, enabling the separate management of multiple websites or applications on the same physical server."
   ]
  },
  {
   "cell_type": "markdown",
   "metadata": {},
   "source": [
    "### listen"
   ]
  },
  {
   "cell_type": "code",
   "execution_count": null,
   "metadata": {
    "vscode": {
     "languageId": "shellscript"
    }
   },
   "outputs": [],
   "source": [
    "Syntax:\t    listen address[:port] [default_server] [ssl] [http2 | quic] [proxy_protocol] [setfib=number] [fastopen=number] [backlog=number] [rcvbuf=size] [sndbuf=size] [accept_filter=filter] [deferred] [bind] [ipv6only=on|off] [reuseport] [so_keepalive=on|off|[keepidle]:[keepintvl]:[keepcnt]];\n",
    "            listen port [default_server] [ssl] [http2 | quic] [proxy_protocol] [setfib=number] [fastopen=number] [backlog=number] [rcvbuf=size] [sndbuf=size] [accept_filter=filter] [deferred] [bind] [ipv6only=on|off] [reuseport] [so_keepalive=on|off|[keepidle]:[keepintvl]:[keepcnt]];\n",
    "            listen unix:path [default_server] [ssl] [http2 | quic] [proxy_protocol] [backlog=number] [rcvbuf=size] [sndbuf=size] [accept_filter=filter] [deferred] [bind] [so_keepalive=on|off|[keepidle]:[keepintvl]:[keepcnt]];\n",
    "Default:\tlisten *:80 | *:8000;\n",
    "Context:\tserver"
   ]
  },
  {
   "cell_type": "markdown",
   "metadata": {},
   "source": [
    "The listen directive typically defines which IP address and port that the server block will respond to. By default, any server block that does not include a listen directive is given the listen parameters of 0.0.0.0:80 (or 0.0.0.0:8080 if Nginx is being run by a normal, non-root user). This allows these blocks to respond to requests on any interface on port 80, but this default value does not hold much weight within the server selection process.\n",
    "\n",
    "The listen directive can be set to:\n",
    "\n",
    "An IP address/port combo.\n",
    "A lone IP address which will then listen on the default port 80.\n",
    "A lone port which will listen to every interface on that port.\n",
    "The path to a Unix socket.\n",
    "\n",
    "For example, listen 80; indicates that the server will listen on all network interfaces on the default IP address for incoming requests on port 80. The listen directive is essential for configuring the listening behavior of the Nginx web server."
   ]
  },
  {
   "cell_type": "code",
   "execution_count": null,
   "metadata": {
    "vscode": {
     "languageId": "shellscript"
    }
   },
   "outputs": [],
   "source": [
    "server {\n",
    "    listen 80; # corresponds to \"listen *:80\" meaning listen on all network interfaces on port 80.\n",
    "    ...\n",
    "}"
   ]
  },
  {
   "cell_type": "markdown",
   "metadata": {},
   "source": [
    "Multiple listen directives can also be defined:"
   ]
  },
  {
   "cell_type": "code",
   "execution_count": null,
   "metadata": {
    "vscode": {
     "languageId": "shellscript"
    }
   },
   "outputs": [],
   "source": [
    "server {\n",
    "    listen localhost:80;\n",
    "    listen 192.168.1.10:80;\n",
    "    listen 192.168.1.10:8090;\n",
    "    ...\n",
    "}"
   ]
  },
  {
   "cell_type": "markdown",
   "metadata": {},
   "source": [
    "In the Nginx configuration file, the default_server option specifies the default server to which a client request with an unknown domain and an empty host field will be forwarded. For instance, when a client writes out the server IP address into a browser or has many domains, such as linuxhint.com, test1.linuxhint.com, and test2.linuxhint.com, not all of them are mentioned in the Nginx configuration file.\n",
    "\n",
    "If you have not added the “default_server” parameter to any virtual server, the first server will be considered the default."
   ]
  },
  {
   "cell_type": "code",
   "execution_count": null,
   "metadata": {
    "vscode": {
     "languageId": "shellscript"
    }
   },
   "outputs": [],
   "source": [
    "server {\n",
    "    listen 80 default_server;\n",
    "    ...\n",
    "}"
   ]
  },
  {
   "cell_type": "markdown",
   "metadata": {},
   "source": [
    "N.B. the default_server is only for one ip:port, consequently if there are virtual hosts with different ip:ports, there will be a default_server for each of them, whether specified or not, in this case the first one with this ip:port is designated"
   ]
  },
  {
   "cell_type": "code",
   "execution_count": null,
   "metadata": {
    "vscode": {
     "languageId": "shellscript"
    }
   },
   "outputs": [],
   "source": [
    "server {\n",
    "    listen localhost:80; # this is default_server for 127.0.0.1:80\n",
    "    ...\n",
    "}\n",
    "\n",
    "server {\n",
    "    listen localhost:80;\n",
    "    ...\n",
    "}\n",
    "\n",
    "server {\n",
    "    listen 192.168.24.24:8080;\n",
    "    ...\n",
    "}\n",
    "\n",
    "server {\n",
    "    listen 192.168.24.24:8080 default_server; # this is default_server for 192.168.24.24:8080\n",
    "    ...\n",
    "}\n",
    "\n",
    "server {\n",
    "    listen 192.168.42.42:80; # this is default_server for 192.168.42.42:80\n",
    "    ...\n",
    "}"
   ]
  },
  {
   "cell_type": "markdown",
   "metadata": {},
   "source": [
    "### server_name\n"
   ]
  },
  {
   "cell_type": "code",
   "execution_count": null,
   "metadata": {
    "vscode": {
     "languageId": "shellscript"
    }
   },
   "outputs": [],
   "source": [
    "Syntax:\t    server_name name ...;\n",
    "Default:\tserver_name \"\";\n",
    "Context:\tserver"
   ]
  },
  {
   "cell_type": "markdown",
   "metadata": {},
   "source": [
    "The server_name directive helps to route the HTTP request to the correct virtual host in the following way:\n",
    "- the web server checks ip:host and checks all the virtual hosts matching this range;\n",
    "- now checks the Host field of the HTTP request and compares it with the server_names of the different virtual hosts;\n",
    "- if no server_name matches, the request is routed to the default_server virtual host.\n",
    "\n",
    "The server_name directive accepts both single and multiple urls and ip.\n",
    "\n",
    "Let's try two scenarios with two different HTTP requests, first request:\n",
    "* GET / HTTP/1.1\n",
    "* Host: 192.168.42.42\n",
    "* User-Agent: curl/7.81.0\n",
    "\n",
    "second request:\n",
    "* GET / HTTP/1.1\n",
    "* Host: another-site.org\n",
    "* User-Agent: curl/7.81.0"
   ]
  },
  {
   "cell_type": "code",
   "execution_count": null,
   "metadata": {
    "vscode": {
     "languageId": "shellscript"
    }
   },
   "outputs": [],
   "source": [
    "server {\n",
    "    listen 80;\n",
    "    server_name example.com www.example.com;\n",
    "    ...\n",
    "}\n",
    "\n",
    "server {\n",
    "    listen 80;\n",
    "    server_name 127.0.0.1;\n",
    "    ...\n",
    "}\n",
    "\n",
    "server {\n",
    "    listen 80 default_server;\n",
    "    server_name 192.168.42.42;\n",
    "    ...\n",
    "}"
   ]
  },
  {
   "cell_type": "markdown",
   "metadata": {},
   "source": [
    "In these two scenarios, both requests will be routed to the third virtual host."
   ]
  },
  {
   "cell_type": "code",
   "execution_count": null,
   "metadata": {
    "vscode": {
     "languageId": "shellscript"
    }
   },
   "outputs": [],
   "source": [
    "Syntax:\t    root path;\n",
    "Default:\troot html;\n",
    "Context:\thttp, server, location, if in location"
   ]
  },
  {
   "cell_type": "markdown",
   "metadata": {},
   "source": [
    "It is important to understand that Nginx will only evaluate the server_name directive when it needs to distinguish between server blocks that match to the same level of specificity in the listen directive. For instance, if example.com is hosted on port 80 of 192.168.1.10, a request for example.com will always be served by the first block in this example, despite the server_name directive in the second block.\n"
   ]
  },
  {
   "cell_type": "code",
   "execution_count": null,
   "metadata": {
    "vscode": {
     "languageId": "shellscript"
    }
   },
   "outputs": [],
   "source": [
    "server {\n",
    "    listen 192.168.1.10;\n",
    "    ...\n",
    "}\n",
    "\n",
    "server {\n",
    "    listen 80;\n",
    "    server_name example.com;\n",
    "    ...\n",
    "}"
   ]
  },
  {
   "cell_type": "markdown",
   "metadata": {},
   "source": [
    "### error_page"
   ]
  },
  {
   "cell_type": "code",
   "execution_count": null,
   "metadata": {
    "vscode": {
     "languageId": "shellscript"
    }
   },
   "outputs": [],
   "source": [
    "Syntax:\t    error_page code ... [=[response]] uri;\n",
    "Default:\t—\n",
    "Context:\thttp, server, location"
   ]
  },
  {
   "cell_type": "markdown",
   "metadata": {},
   "source": [
    "The error_page directive, allows for the configuration of error page handling for specific HTTP status codes. <br>\n",
    "This directive defines which page to display when a particular HTTP error occurs. <br>\n",
    "Here's an example of using the error_page directive:"
   ]
  },
  {
   "cell_type": "code",
   "execution_count": null,
   "metadata": {
    "vscode": {
     "languageId": "shellscript"
    }
   },
   "outputs": [],
   "source": [
    "server {\n",
    "    ...\n",
    "    error_page 404 /custom_404.html;               # specifies that when a 404 error occurs, webserv should display the custom page \"custom_404.html\".\n",
    "    error_page 500 502 503 504 /custom_error.html; # indicates that for errors 500, 502, 503, and 504, webserv should display the custom page \"custom_error.html\".\n",
    "\n",
    "    location = /custom_error.html {                # directive configures the physical location of the custom page on the server, specifying the root directory.\n",
    "        root /path/to/error/pages;\n",
    "    }\n",
    "    ...\n",
    "}"
   ]
  },
  {
   "cell_type": "markdown",
   "metadata": {},
   "source": [
    "### client_max_body_size"
   ]
  },
  {
   "cell_type": "code",
   "execution_count": null,
   "metadata": {
    "vscode": {
     "languageId": "shellscript"
    }
   },
   "outputs": [],
   "source": [
    "Syntax:\t    client_max_body_size size;\n",
    "Default:\tclient_max_body_size 1m;\n",
    "Context:\thttp, server, location"
   ]
  },
  {
   "cell_type": "markdown",
   "metadata": {},
   "source": [
    "This directive is used to limit the maximum body size (payload) of an HTTP request that the server accepts from a client. <br>\n",
    "This is particularly useful to prevent denial-of-service (DoS) attacks or to protect the server from requests with excessively large payloads that could exhaust the server's resources."
   ]
  },
  {
   "cell_type": "code",
   "execution_count": null,
   "metadata": {
    "vscode": {
     "languageId": "shellscript"
    }
   },
   "outputs": [],
   "source": [
    "server {\n",
    "    listen 80;\n",
    "    server_name example.com;\n",
    "\n",
    "    client_max_body_size 10M;\n",
    "\n",
    "    location /upload {\n",
    "        # Configurations for handling upload requests\n",
    "        ...\n",
    "    }\n",
    "}"
   ]
  },
  {
   "cell_type": "markdown",
   "metadata": {},
   "source": [
    "### alias"
   ]
  },
  {
   "cell_type": "code",
   "execution_count": null,
   "metadata": {
    "vscode": {
     "languageId": "shellscript"
    }
   },
   "outputs": [],
   "source": [
    "Syntax:\t    alias path;\n",
    "Default:\t—\n",
    "Context:\tlocation"
   ]
  },
  {
   "cell_type": "markdown",
   "metadata": {},
   "source": [
    "The alias directive is used to specify a mapping between a virtual path in the requested URL and a physical path on the server to the corresponding file or directory. <br>\n",
    "This directive allows files to be served from a different location than the basic directory structure on the server.\n",
    "\n",
    "Here is an example of how to use the alias directive:"
   ]
  },
  {
   "cell_type": "code",
   "execution_count": null,
   "metadata": {
    "vscode": {
     "languageId": "shellscript"
    }
   },
   "outputs": [],
   "source": [
    "location /kapouet/ {                 # configures the search in the /tmp/www/ directory when the request is to /kapouet/.\n",
    "    alias /tmp/www/;\n",
    "    ...\n",
    "}\n",
    "\n",
    "location /kapouet/pouic/toto/pouet { # configures the search in the /tmp/www/pouic/to/pouet directory when the request is to /kapouet/pouic/to/pouet.\n",
    "    alias /tmp/www/pouic/toto/pouet;\n",
    "    ...\n",
    "}\n"
   ]
  },
  {
   "cell_type": "markdown",
   "metadata": {},
   "source": [
    "### location\n"
   ]
  },
  {
   "cell_type": "code",
   "execution_count": null,
   "metadata": {
    "vscode": {
     "languageId": "shellscript"
    }
   },
   "outputs": [],
   "source": [
    "Syntax:\t    location [ = | ~ | ~* | ^~ ] uri { ... }\n",
    "            location @name { ... }\n",
    "Default:\t—\n",
    "Context:\tserver, location"
   ]
  },
  {
   "cell_type": "markdown",
   "metadata": {},
   "source": []
  },
  {
   "cell_type": "markdown",
   "metadata": {},
   "source": [
    "### root"
   ]
  },
  {
   "cell_type": "code",
   "execution_count": null,
   "metadata": {
    "vscode": {
     "languageId": "shellscript"
    }
   },
   "outputs": [],
   "source": [
    "Syntax:\t    root path;\n",
    "Default:\troot html;\n",
    "Context:\thttp, server, location"
   ]
  },
  {
   "cell_type": "markdown",
   "metadata": {},
   "source": []
  },
  {
   "cell_type": "markdown",
   "metadata": {},
   "source": [
    "### index\n"
   ]
  },
  {
   "cell_type": "code",
   "execution_count": null,
   "metadata": {
    "vscode": {
     "languageId": "shellscript"
    }
   },
   "outputs": [],
   "source": [
    "Syntax:\t    index file ...;\n",
    "Default:    index index.html;\n",
    "Context:\thttp, server, location"
   ]
  },
  {
   "cell_type": "markdown",
   "metadata": {},
   "source": [
    "The index directive is used to specify the list of file names to search in a directory when a path matching a directory is requested. <br> The web server will search for these files in the order specified and respond with the first file found.\n"
   ]
  },
  {
   "cell_type": "code",
   "execution_count": null,
   "metadata": {
    "vscode": {
     "languageId": "shellscript"
    }
   },
   "outputs": [],
   "source": [
    "location /my-directory/ {\n",
    "    index index.html index.htm;  # Sets the search order of index files.\n",
    "    ...\n",
    "}\n"
   ]
  },
  {
   "cell_type": "markdown",
   "metadata": {},
   "source": [
    "### autoindex\n"
   ]
  },
  {
   "cell_type": "code",
   "execution_count": null,
   "metadata": {
    "vscode": {
     "languageId": "shellscript"
    }
   },
   "outputs": [],
   "source": [
    "Syntax:\t    autoindex on | off;\n",
    "Default:    autoindex off;\n",
    "Context:\thttp, server, location"
   ]
  },
  {
   "cell_type": "markdown",
   "metadata": {},
   "source": [
    "The autoindex directive is used to enable or disable the automatic display of the list of files in a directory when the request is directed to that directory and does not include a specific filename. <br>\n",
    "In other words, if autoindex is enabled, the web server will generate a list of files and subdirectories present in the requested directory."
   ]
  },
  {
   "cell_type": "markdown",
   "metadata": {},
   "source": [
    "### limit_except\n"
   ]
  },
  {
   "cell_type": "code",
   "execution_count": null,
   "metadata": {
    "vscode": {
     "languageId": "shellscript"
    }
   },
   "outputs": [],
   "source": [
    "Syntax:\t    limit_except method ... { ... }\n",
    "Default:\t—\n",
    "Context:\tlocation"
   ]
  },
  {
   "cell_type": "markdown",
   "metadata": {},
   "source": [
    "This directive allows you to prevent the use of all HTTP methods, except the ones that you explicitly allow. <br>\n",
    " Within a location block, you may want to restrict the use of some HTTP methods, such as forbidding clients from sending POST requests. <br>\n",
    " You need to define two elements: first, the methods that are not forbidden (the allowed methods; all others will be forbidden); and second, the audience that is affected by the restriction:"
   ]
  },
  {
   "cell_type": "code",
   "execution_count": null,
   "metadata": {
    "vscode": {
     "languageId": "shellscript"
    }
   },
   "outputs": [],
   "source": [
    "location /admin/ { \n",
    "    limit_except GET POST { # Allow only GET and POST HTTP methods.\n",
    "      allow 192.168.1.0/24; # Exclude from limitations 192.168.1.0/24.     \n",
    "      deny all;             # Include everyone else in thats limitations.\n",
    "    }\n",
    "}"
   ]
  },
  {
   "cell_type": "markdown",
   "metadata": {},
   "source": [
    "### rewrite"
   ]
  },
  {
   "cell_type": "code",
   "execution_count": null,
   "metadata": {
    "vscode": {
     "languageId": "shellscript"
    }
   },
   "outputs": [],
   "source": [
    "Syntax:     rewrite regex replacement [flag];\n",
    "Default:\t—\n",
    "Context:\tserver, location, if"
   ]
  },
  {
   "cell_type": "markdown",
   "metadata": {},
   "source": [
    "The rewrite directive allows URLs or HTTP requests to be dynamically modified. When a match is found between the requested URL and the string specified in the rewrite directive, the request is forwarded to the new URL with an HTTP 301 (Moved Permanently) response code.\n",
    "\n",
    "The HTTP 301 response code informs the browser and other user agents that the requested resource has been permanently moved to a new address. <br> \n",
    "As a result, the browser should automatically refresh its cache and store the new URL. <br> \n",
    "This permanent redirection is useful when you want to indicate to search engines and users that the original URL is no longer valid and should be replaced by the new URL indicated in the rewrite."
   ]
  },
  {
   "cell_type": "code",
   "execution_count": null,
   "metadata": {
    "vscode": {
     "languageId": "shellscript"
    }
   },
   "outputs": [],
   "source": [
    "location /old {\n",
    "    rewrite /old /new;\n",
    "}"
   ]
  },
  {
   "cell_type": "markdown",
   "metadata": {},
   "source": [
    "### include\n"
   ]
  },
  {
   "cell_type": "code",
   "execution_count": null,
   "metadata": {
    "vscode": {
     "languageId": "shellscript"
    }
   },
   "outputs": [],
   "source": [
    "Syntax:\t    include file | mask;\n",
    "Default:\t—\n",
    "Context:\tany"
   ]
  },
  {
   "cell_type": "markdown",
   "metadata": {},
   "source": [
    "The include directive is used to include the contents of other configuration files within the main configuration file. <br>\n",
    "This allows the configuration to be more modularly organized and makes it easier to manage configuration files."
   ]
  },
  {
   "cell_type": "code",
   "execution_count": null,
   "metadata": {
    "vscode": {
     "languageId": "shellscript"
    }
   },
   "outputs": [],
   "source": [
    "http {\n",
    "    include /etc/nginx/mime.types;\n",
    "    include /etc/nginx/conf.d/*.conf;\n",
    "\n",
    "    server {\n",
    "        listen 80;\n",
    "        server_name example.com;\n",
    "        include /etc/nginx/conf.d/server_config/*.conf;  # Includes other server-specific configuration files.\n",
    "        ...\n",
    "    }\n",
    "    ...\n",
    "}"
   ]
  }
 ],
 "metadata": {
  "language_info": {
   "name": "python"
  }
 },
 "nbformat": 4,
 "nbformat_minor": 2
}
