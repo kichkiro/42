{
 "cells": [
  {
   "attachments": {},
   "cell_type": "markdown",
   "metadata": {},
   "source": [
    "# Minishell\n",
    "\n",
    "Notes on the various stages of minishell implementation."
   ]
  },
  {
   "attachments": {},
   "cell_type": "markdown",
   "metadata": {},
   "source": [
    "## Parser\n",
    "---"
   ]
  },
  {
   "attachments": {},
   "cell_type": "markdown",
   "metadata": {},
   "source": [
    "To implement prompt parsing, we will use a finite state machine, which represents the control flow needed to break down the command into elements. The finite state machine consists of one or more states and a series of transitions between the states, according to which the operations necessary for parsing are performed.\n",
    "\n",
    "Once the command is divided into elements, we will use a data structure such as a concatenated list to represent the individual elements. This way, it will be possible to manipulate each element separately to perform the operations required by the command. We opted for a concatenated list because it allows us to have a dynamic structure."
   ]
  },
  {
   "attachments": {},
   "cell_type": "markdown",
   "metadata": {},
   "source": [
    "Definition of the list:"
   ]
  },
  {
   "cell_type": "code",
   "execution_count": null,
   "metadata": {},
   "outputs": [],
   "source": [
    "typedef struct s_cmd\n",
    "{\n",
    "\tchar\t\t\t*token;\n",
    "\tchar\t\t\ttype;\n",
    "\tstruct s_cmd\t*next;\n",
    "\tstruct s_cmd\t*prev;\n",
    "}\tt_cmd;"
   ]
  },
  {
   "attachments": {},
   "cell_type": "markdown",
   "metadata": {},
   "source": [
    "The prompt is divided into tokens, of the following types:\n",
    "- STANDARD: It is the token representing commands, options and arguments.\n",
    "- REDIRECT: It is the token representing redirection characters.\n",
    "- PIPE: It is the token representing the pipe operator.\n",
    "- BOOLEAN: It is the token representing Boolean operators. For convenience, even round brackets, outside of quotes, are considered booleans.\n",
    "- NONE: It is a convention within the parsing system to indicate that the token has not yet been defined."
   ]
  },
  {
   "attachments": {},
   "cell_type": "markdown",
   "metadata": {},
   "source": [
    "``` c\n",
    "prompt = cat < file \n",
    "\n",
    "        +------------------------+    +------------------------+    +------------------------+                                              \n",
    "        |   addr: 0x7fffea48     |    |   addr: 0x2f96a8d1     |    |   addr: 0x1ef1bd7d     |                                             \n",
    "        +------------------------+    +------------------------+    +------------------------+                                               \n",
    "head -> |   token = \"cat \"       | -> |   token = \"<\"          | -> |   token = \"file\"       | -> NULL  \n",
    "        |   type  = STANDARD     |    |   type  = REDIRECT     |    |   type  = STANDARD     |                                      \n",
    "        |   next  = 0x2f96a8d1   |    |   next  = 0x1ef1bd7d   |    |   next  = NULL         |                                             \n",
    "        |   prev  = NULL         |    |   prev  = 0x7fffea48   |    |   prev  = 0x2f96a8d1   |                                             \n",
    "        +------------------------+    +------------------------+    +------------------------+\n",
    "```         "
   ]
  },
  {
   "attachments": {},
   "cell_type": "markdown",
   "metadata": {},
   "source": [
    "Delimiters between tokens are, if outside single and double quotes:\n",
    "- Spaces and tabs\n",
    "- characters of type REDIRECT\n",
    "- characters of type PIPE\n",
    "- characters of type BOOLEAN"
   ]
  },
  {
   "attachments": {},
   "cell_type": "markdown",
   "metadata": {},
   "source": [
    "Some examples of parsing:\n",
    "\n",
    "``` c\n",
    "prompt = echo \"'$USER'42 $SHELL\" '|' > file | (grep \"USER\" && echo 42)\n",
    "```\n",
    "| Token                   | Type     | \n",
    "| ----------------------- | ---      |\n",
    "| echo                    | STANDARD |\n",
    "| '$USER'42 /usr/bin/bash | STANDARD |\n",
    "| \\|                      | STANDARD |\n",
    "| >                       | REDIRECT |\n",
    "| file                    | STANDARD |\n",
    "| \\|                      | PIPE     |\n",
    "| (                       | BOOLEAN  |\n",
    "| grep                    | STANDARD |\n",
    "| USER                    | STANDARD |\n",
    "| &&                      | BOOLEAN  |\n",
    "| echo                    | STANDARD |\n",
    "| 42                      | STANDARD |\n",
    "| )                       | BOOLEAN  |\n"
   ]
  },
  {
   "attachments": {},
   "cell_type": "markdown",
   "metadata": {},
   "source": [
    "## Executor\n",
    "---"
   ]
  },
  {
   "attachments": {},
   "cell_type": "markdown",
   "metadata": {},
   "source": [
    "The executor is the main module and is responsible for executing commands. To do this, it relies on the parser module, which provides it with the commands to execute. The executor is responsible for creating the processes needed to execute the commands, and for handling pipes, redirections, and booleans."
   ]
  },
  {
   "attachments": {},
   "cell_type": "markdown",
   "metadata": {},
   "source": [
    "```c\n",
    "                                               +-----------------+            \n",
    "                                               |   Execution     |            \n",
    "                                               |   System        |            \n",
    "                                               +-----------------+            \n",
    "                                                        |                     \n",
    "                                                        v                     \n",
    "                                               +-----------------+            \n",
    "                                               |     Routing     |            \n",
    "                                               +-----------------+            \n",
    "                                                     |  |  |               \n",
    "                                                     |  |  |               \n",
    "                                    +----------------+  |  +----------------+  \n",
    "                                    |                   |                   |  \n",
    "                                    v                   v                   v  \n",
    "                           +-----------------+ +-----------------+ +-----------------+\n",
    "                           |  Redirections   | |      Pipes      | |  Booleans       |\n",
    "                           +-----------------+ +-----------------+ +-----------------+\n",
    "\n",
    "                                                     Execute\n",
    "                           +---------------------------------------------------------+                                              \n",
    "                                          |                             |\n",
    "                                          v                             v\n",
    "                                 +-----------------+           +-----------------+                  \n",
    "                                 | Built-in        |           | External        |                                 \n",
    "                                 +-----------------+           +-----------------+                                 \n",
    "```                      "
   ]
  },
  {
   "attachments": {},
   "cell_type": "markdown",
   "metadata": {},
   "source": [
    "1. The main execution_system function handles command execution. It takes as input a pointer to a t_cmd structure (the command line previously processed by Parse) and a pointer to a t_var structure (containing the variables, of shell and env).\n",
    "\n",
    "2. Within execution_system, an args array is initialized to contain the arguments to the current command and an exe string to store the path to the executable to be executed.\n",
    "\n",
    "3. A loop is then executed that continues as long as there are commands to execute and the type of the current command is not a Boolean type.\n",
    "\n",
    "4. If the type of the current command is STANDARD, an additional loop is executed to read and store the arguments of the current command in the args array. The first argument (the name of the executable) is also assigned to the string exe.\n",
    "\n",
    "5. A check is then performed to determine whether the current executable is a built-in command, whether the executable exists in the current path, or whether it is necessary to look up the executable in the environment path. If any of these conditions are met, the exec_router function is called to route the execution.\n",
    "\n",
    "6. The exec_router function handles execution routing based on the command type. If the current command has redirections, the function calls the redirections function to handle them. If the command also has a pipe, the pipes function is called. If the current executable is a built-in command, the execute_builtin function is called. Otherwise, if the current executable is an external command, the execute function is called.\n",
    "\n",
    "7. After execution of the current command, resources, such as the args array and the exe string, are freed. Closing the descriptor files and restoring the terminal is also handled.\n",
    "\n",
    "8. The loop continues with the next command unless certain exit conditions occur, such as receiving an interrupt signal or an execution error.\n"
   ]
  },
  {
   "attachments": {},
   "cell_type": "markdown",
   "metadata": {},
   "source": [
    "#### Redirections\n",
    "\n",
    "Redirections were handled by a cascade mechanism, with the following flow:\n",
    "- The first redirection is executed, and the current fd and the new redirected fd are saved in the t_fd list.\n",
    "- It continues to recursively execute redirects, until the last one.\n",
    "- It goes back into the router and is checked to see if the next token is of type PIPE, in which case the command is executed and handled by pipes.\n",
    "- Otherwise the command is executed normally, which can be a built-in or an external.\n",
    "- When finished, all fd are closed, then the last one is closed and the previous one is restored, until the terminal fd is returned.\n",
    "\n",
    "#### Heredoc\n",
    "\n",
    "Heredoc was implemented via pipe(), as pipe is a special type of file with the difference of having 2 fd, we used it as a temporary file, so we get the document via readline(), write it to the write side [1] in pipe and redirect the input to the read side of pipe [0].\n",
    "\n",
    "NOTE: Since in order to get the input with readline() from the terminal and display the output, we need the terminal fds, the terminal is then temporarily reset while running heredoc."
   ]
  },
  {
   "attachments": {},
   "cell_type": "markdown",
   "metadata": {},
   "source": [
    "#### Pipe\n",
    "\n",
    "Pipe is handled in the following way:\n",
    "\n",
    "- The current input fd is saved.\n",
    "- A new child process is created.\n",
    "- In the child process the output on the write side of pipe is redirected if the current output is from the terminal and the command is executed, otherwise it is executed but without writing it to pipe.\n",
    "- Terminal fd output is restored.\n",
    "- You redirect the input to the read side of pipe."
   ]
  }
 ],
 "metadata": {
  "kernelspec": {
   "display_name": "Python 3",
   "language": "python",
   "name": "python3"
  },
  "language_info": {
   "codemirror_mode": {
    "name": "ipython",
    "version": 3
   },
   "file_extension": ".py",
   "mimetype": "text/x-python",
   "name": "python",
   "nbconvert_exporter": "python",
   "pygments_lexer": "ipython3",
   "version": "3.10.6"
  },
  "orig_nbformat": 4
 },
 "nbformat": 4,
 "nbformat_minor": 2
}
