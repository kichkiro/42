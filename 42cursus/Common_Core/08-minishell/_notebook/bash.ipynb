{
 "cells": [
  {
   "attachments": {},
   "cell_type": "markdown",
   "metadata": {},
   "source": [
    "# Bash\n",
    "\n",
    "Some definitions of bash shell commands and concepts."
   ]
  },
  {
   "attachments": {},
   "cell_type": "markdown",
   "metadata": {},
   "source": [
    "## Redirections\n",
    "\n",
    "---\n",
    "\n",
    "Before a command is executed, the shell allows its input and output to be directed to different places using special symbols. This is called \"redirection.\" Redirection lets you duplicate, open, close, or change file handles, which are references to files that commands read from or write to. You can also use redirection to modify file handles in the current shell environment.\n",
    "\n",
    "There are several redirection operators you can use before or after a command. Redirections are processed in the order they appear, from left to right."
   ]
  },
  {
   "cell_type": "code",
   "execution_count": 10,
   "metadata": {
    "vscode": {
     "languageId": "shellscript"
    }
   },
   "outputs": [],
   "source": [
    "%%bash\n",
    "\n",
    "touch file.txt\n",
    "echo \"Text in file file.txt\" > file.txt"
   ]
  },
  {
   "attachments": {},
   "cell_type": "markdown",
   "metadata": {},
   "source": [
    "### Redirecting Input\n",
    "\n",
    "The __<__ operator is used to redirect command input from a file descriptor if present, otherwise the file descriptor is taken directly from the file.\n",
    "\n",
    "This:"
   ]
  },
  {
   "cell_type": "code",
   "execution_count": 11,
   "metadata": {
    "vscode": {
     "languageId": "shellscript"
    }
   },
   "outputs": [
    {
     "name": "stdout",
     "output_type": "stream",
     "text": [
      "Text in file file.txt\n"
     ]
    }
   ],
   "source": [
    "%%bash \n",
    "\n",
    "exec {fd}<file.txt\n",
    "cat <&$fd"
   ]
  },
  {
   "attachments": {},
   "cell_type": "markdown",
   "metadata": {},
   "source": [
    "It's the same as this:"
   ]
  },
  {
   "cell_type": "code",
   "execution_count": 12,
   "metadata": {
    "vscode": {
     "languageId": "shellscript"
    }
   },
   "outputs": [
    {
     "name": "stdout",
     "output_type": "stream",
     "text": [
      "Text in file file.txt\n"
     ]
    }
   ],
   "source": [
    "%%bash\n",
    "\n",
    "cat < file.txt"
   ]
  },
  {
   "attachments": {},
   "cell_type": "markdown",
   "metadata": {},
   "source": [
    "### Redirecting Output\n",
    "\n",
    "The __>__ operator is used to redirect the output of a command to a file. If the file does not exist, it is created, if it already exist it is truncated to zero size.\n"
   ]
  },
  {
   "cell_type": "code",
   "execution_count": 13,
   "metadata": {
    "vscode": {
     "languageId": "shellscript"
    }
   },
   "outputs": [
    {
     "name": "stdout",
     "output_type": "stream",
     "text": [
      "Text in file file.txt\n",
      "Overwrite\n"
     ]
    }
   ],
   "source": [
    "%%bash\n",
    "\n",
    "cat file.txt\n",
    "\n",
    "echo \"Overwrite\" > file.txt\n",
    "\n",
    "cat file.txt"
   ]
  },
  {
   "attachments": {},
   "cell_type": "markdown",
   "metadata": {},
   "source": [
    "### Appending Redirected Output\n",
    "\n",
    "The __>>__ operator is used to redirect the output of a command to a file. If the file does not exist, it is created, if it already exists, the output is appended to the end of the file."
   ]
  },
  {
   "cell_type": "code",
   "execution_count": 14,
   "metadata": {
    "vscode": {
     "languageId": "shellscript"
    }
   },
   "outputs": [
    {
     "name": "stdout",
     "output_type": "stream",
     "text": [
      "Overwrite\n",
      "Append\n"
     ]
    }
   ],
   "source": [
    "%%bash\n",
    "\n",
    "echo \"Append\" >> file.txt\n",
    "\n",
    "cat file.txt"
   ]
  },
  {
   "attachments": {},
   "cell_type": "markdown",
   "metadata": {},
   "source": [
    "### Here Documents\n",
    "\n",
    "The __<<__ operator is used to redirect input from a here document. This allows you to create a document on the fly and pass it as input to a command.\n",
    "\n",
    "The file created by the here document is temporary and is deleted when the command ends.\n",
    "\n",
    "To use a here document, you must specify a word that will be used as a delimiter. This word can be any string of characters, but it is recommended to use a string that is not likely to appear in the document.\n"
   ]
  },
  {
   "cell_type": "code",
   "execution_count": 29,
   "metadata": {
    "vscode": {
     "languageId": "shellscript"
    }
   },
   "outputs": [
    {
     "name": "stdout",
     "output_type": "stream",
     "text": [
      "Writing something in HEREDOC\n",
      "Something else\n",
      "...\n"
     ]
    }
   ],
   "source": [
    "%%bash\n",
    "\n",
    "cat << EOF\n",
    "Writing something in HEREDOC\n",
    "Something else\n",
    "...\n",
    "EOF"
   ]
  },
  {
   "attachments": {},
   "cell_type": "markdown",
   "metadata": {},
   "source": [
    "No parameter and variable expansion, command substitution, arithmetic expansion, or filename expansion is performed on delimiter word."
   ]
  },
  {
   "cell_type": "code",
   "execution_count": 30,
   "metadata": {
    "vscode": {
     "languageId": "shellscript"
    }
   },
   "outputs": [
    {
     "name": "stdout",
     "output_type": "stream",
     "text": [
      "...\n"
     ]
    }
   ],
   "source": [
    "%%bash\n",
    "\n",
    "cat << $HOME\n",
    "...\n",
    "$HOME"
   ]
  },
  {
   "attachments": {},
   "cell_type": "markdown",
   "metadata": {},
   "source": [
    "If any part of delimiter is quoted, the delimiter is the result of quote removal on delimiter, and the lines in the here-document are not expanded."
   ]
  },
  {
   "cell_type": "code",
   "execution_count": 33,
   "metadata": {
    "vscode": {
     "languageId": "shellscript"
    }
   },
   "outputs": [
    {
     "name": "stdout",
     "output_type": "stream",
     "text": [
      "$SHELL\n",
      "...\n"
     ]
    }
   ],
   "source": [
    "%%bash\n",
    "\n",
    "cat << 'EOF'\n",
    "$SHELL\n",
    "...\n",
    "EOF"
   ]
  },
  {
   "attachments": {},
   "cell_type": "markdown",
   "metadata": {},
   "source": [
    "If delimiter is unquoted, all lines of the here-document are subjected to parameter expansion, command substitution, and arithmetic expansion, the character sequence \\newline is ignored, and ‘\\’ must be used to quote the characters ‘\\’, ‘$’, and ‘`’."
   ]
  },
  {
   "cell_type": "code",
   "execution_count": 34,
   "metadata": {
    "vscode": {
     "languageId": "shellscript"
    }
   },
   "outputs": [
    {
     "name": "stdout",
     "output_type": "stream",
     "text": [
      "/bin/bash\n",
      "...\n"
     ]
    }
   ],
   "source": [
    "%%bash\n",
    "\n",
    "cat << EOF\n",
    "$SHELL\n",
    "...\n",
    "EOF"
   ]
  },
  {
   "attachments": {},
   "cell_type": "markdown",
   "metadata": {},
   "source": [
    "### Multiple Redirections\n",
    "\n",
    "The following are some examples of multiple redirections.\n",
    "\n",
    "Starting Lab (run before each cell):"
   ]
  },
  {
   "cell_type": "code",
   "execution_count": 1,
   "metadata": {
    "vscode": {
     "languageId": "shellscript"
    }
   },
   "outputs": [
    {
     "name": "stdout",
     "output_type": "stream",
     "text": [
      "Content of file1: 1$\n",
      "Content of file2: 2$\n",
      "Content of file3: 3$\n",
      "Content of file4: 4$\n"
     ]
    }
   ],
   "source": [
    "%%bash\n",
    "\n",
    "echo 1 > file1\n",
    "echo 2 > file2\n",
    "echo 3 > file3\n",
    "echo 4 > file4\n",
    "\n",
    "echo Content of file1: $(cat -e file1)\n",
    "echo Content of file2: $(cat -e file2)\n",
    "echo Content of file3: $(cat -e file3)\n",
    "echo Content of file4: $(cat -e file4)"
   ]
  },
  {
   "cell_type": "code",
   "execution_count": 68,
   "metadata": {
    "vscode": {
     "languageId": "shellscript"
    }
   },
   "outputs": [
    {
     "name": "stdout",
     "output_type": "stream",
     "text": [
      "Content file1: 1$\n",
      "Content file2:\n",
      "Content file3: 1$\n"
     ]
    }
   ],
   "source": [
    "%%bash\n",
    "\n",
    "cat < file1 > file2 > file3 \n",
    "\n",
    "echo Content file1: $(cat -e file1)\n",
    "echo Content file2: $(cat -e file2)\n",
    "echo Content file3: $(cat -e file3)"
   ]
  },
  {
   "cell_type": "code",
   "execution_count": 47,
   "metadata": {
    "vscode": {
     "languageId": "shellscript"
    }
   },
   "outputs": [
    {
     "name": "stdout",
     "output_type": "stream",
     "text": [
      "Content file1: 1$\n",
      "Content file2: 2$\n",
      "Content file3: 3$ 1$\n"
     ]
    }
   ],
   "source": [
    "%%bash\n",
    "\n",
    "cat < file1 >> file2 >> file3 \n",
    "\n",
    "echo Content file1: $(cat -e file1)\n",
    "echo Content file2: $(cat -e file2)\n",
    "echo Content file3: $(cat -e file3)"
   ]
  },
  {
   "cell_type": "code",
   "execution_count": 49,
   "metadata": {
    "vscode": {
     "languageId": "shellscript"
    }
   },
   "outputs": [
    {
     "name": "stdout",
     "output_type": "stream",
     "text": [
      "Content file1: 1$\n",
      "Content file2: 2$\n",
      "Content file3: 1$\n"
     ]
    }
   ],
   "source": [
    "%%bash\n",
    "\n",
    "cat < file1 >> file2 > file3 \n",
    "\n",
    "echo Content file1: $(cat -e file1)\n",
    "echo Content file2: $(cat -e file2)\n",
    "echo Content file3: $(cat -e file3)"
   ]
  },
  {
   "cell_type": "code",
   "execution_count": 51,
   "metadata": {
    "vscode": {
     "languageId": "shellscript"
    }
   },
   "outputs": [
    {
     "name": "stdout",
     "output_type": "stream",
     "text": [
      "Content file1: 1$\n",
      "Content file2:\n",
      "Content file3: 3$ 1$\n"
     ]
    }
   ],
   "source": [
    "%%bash\n",
    "\n",
    "cat < file1 > file2 >> file3 \n",
    "\n",
    "echo Content file1: $(cat -e file1)\n",
    "echo Content file2: $(cat -e file2)\n",
    "echo Content file3: $(cat -e file3)"
   ]
  },
  {
   "cell_type": "code",
   "execution_count": 53,
   "metadata": {
    "vscode": {
     "languageId": "shellscript"
    }
   },
   "outputs": [
    {
     "name": "stdout",
     "output_type": "stream",
     "text": [
      "2\n",
      "Content file1: 1$\n",
      "Content file2: 2$\n"
     ]
    }
   ],
   "source": [
    "%%bash\n",
    "\n",
    "cat < file1 < file2\n",
    "\n",
    "echo Content file1: $(cat -e file1)\n",
    "echo Content file2: $(cat -e file2)"
   ]
  },
  {
   "cell_type": "code",
   "execution_count": 55,
   "metadata": {
    "vscode": {
     "languageId": "shellscript"
    }
   },
   "outputs": [
    {
     "name": "stdout",
     "output_type": "stream",
     "text": [
      "4\n",
      "Content file1: 1$\n",
      "Content file2: 2$\n",
      "Content file3: 3$\n",
      "Content file4: 4$\n"
     ]
    }
   ],
   "source": [
    "%%bash\n",
    "\n",
    "cat < file1 < file2 < file3 < file4\n",
    "\n",
    "echo Content file1: $(cat -e file1)\n",
    "echo Content file2: $(cat -e file2)\n",
    "echo Content file3: $(cat -e file3)\n",
    "echo Content file4: $(cat -e file4)"
   ]
  },
  {
   "cell_type": "code",
   "execution_count": 58,
   "metadata": {
    "vscode": {
     "languageId": "shellscript"
    }
   },
   "outputs": [
    {
     "name": "stdout",
     "output_type": "stream",
     "text": [
      "Content file1: 1$\n",
      "Content file2: 2$\n",
      "Content file3: 3$\n",
      "Content file4: 3$\n"
     ]
    }
   ],
   "source": [
    "%%bash\n",
    "\n",
    "cat < file1 < file2 < file3 > file4\n",
    "\n",
    "echo Content file1: $(cat -e file1)\n",
    "echo Content file2: $(cat -e file2)\n",
    "echo Content file3: $(cat -e file3)\n",
    "echo Content file4: $(cat -e file4)"
   ]
  },
  {
   "cell_type": "code",
   "execution_count": 71,
   "metadata": {
    "vscode": {
     "languageId": "shellscript"
    }
   },
   "outputs": [
    {
     "name": "stdout",
     "output_type": "stream",
     "text": [
      "Content file1: 1$\n",
      "Content file2: 2$\n",
      "Content file3:\n",
      "Content file4: 4$ 2$\n"
     ]
    }
   ],
   "source": [
    "%%bash\n",
    "\n",
    "cat < file1 < file2 > file3 >> file4\n",
    "\n",
    "echo Content file1: $(cat -e file1)\n",
    "echo Content file2: $(cat -e file2)\n",
    "echo Content file3: $(cat -e file3)\n",
    "echo Content file4: $(cat -e file4)"
   ]
  },
  {
   "cell_type": "code",
   "execution_count": 61,
   "metadata": {
    "vscode": {
     "languageId": "shellscript"
    }
   },
   "outputs": [
    {
     "name": "stdout",
     "output_type": "stream",
     "text": [
      "Content file1: 1$\n",
      "Content file2: 2$\n",
      "Content file3:\n",
      "Content file4: 2$\n"
     ]
    }
   ],
   "source": [
    "%%bash\n",
    "\n",
    "cat < file1 < file2 > file3 > file4\n",
    "\n",
    "echo Content file1: $(cat -e file1)\n",
    "echo Content file2: $(cat -e file2)\n",
    "echo Content file3: $(cat -e file3)\n",
    "echo Content file4: $(cat -e file4)"
   ]
  },
  {
   "cell_type": "code",
   "execution_count": 2,
   "metadata": {
    "vscode": {
     "languageId": "shellscript"
    }
   },
   "outputs": [
    {
     "name": "stdout",
     "output_type": "stream",
     "text": [
      "Content file1: 42$\n",
      "Content file2: 2$\n"
     ]
    }
   ],
   "source": [
    "%%bash\n",
    "\n",
    "echo 42 > file1 < file2\n",
    "\n",
    "echo Content file1: $(cat -e file1)\n",
    "echo Content file2: $(cat -e file2)"
   ]
  },
  {
   "cell_type": "code",
   "execution_count": 4,
   "metadata": {
    "vscode": {
     "languageId": "shellscript"
    }
   },
   "outputs": [
    {
     "name": "stdout",
     "output_type": "stream",
     "text": [
      "Content file1: 42$\n",
      "Content file2: 2$\n"
     ]
    }
   ],
   "source": [
    "%%bash\n",
    "\n",
    "echo 42 > file1 << EOF\n",
    "Some text in HEREDOC\n",
    "...\n",
    "EOF\n",
    "\n",
    "echo Content file1: $(cat -e file1)\n",
    "echo Content file2: $(cat -e file2)"
   ]
  },
  {
   "attachments": {},
   "cell_type": "markdown",
   "metadata": {},
   "source": [
    "## PIPE\n",
    "\n",
    "---\n",
    "\n",
    "TODO"
   ]
  },
  {
   "attachments": {},
   "cell_type": "markdown",
   "metadata": {},
   "source": [
    "## Boolean Operators\n",
    "\n",
    "---\n",
    "\n",
    "The __&&__ and __||__ operators are commonly used in Bash scripting to control the flow of execution based on the success or failure of commands. These operators are known as boolean operators, as they evaluate the truth value of boolean expressions.\n",
    "\n",
    "The __&&__ operator evaluates to true if and only if all the commands preceding it in the pipeline have succeeded. In other words, the __&&__ operator executes the command following it only if the previous command(s) succeeded."
   ]
  },
  {
   "cell_type": "code",
   "execution_count": 1,
   "metadata": {
    "vscode": {
     "languageId": "shellscript"
    }
   },
   "outputs": [
    {
     "name": "stdout",
     "output_type": "stream",
     "text": [
      "42\n",
      "21\n"
     ]
    }
   ],
   "source": [
    "%%bash\n",
    "\n",
    "echo 42 && echo 21"
   ]
  },
  {
   "attachments": {},
   "cell_type": "markdown",
   "metadata": {},
   "source": [
    "On the other hand, the __||__ operator evaluates to true if any of the commands preceding it in the pipeline have succeeded. In other words, the __||__ operator executes the command following it only if the previous command(s) failed."
   ]
  },
  {
   "cell_type": "code",
   "execution_count": 13,
   "metadata": {
    "vscode": {
     "languageId": "shellscript"
    }
   },
   "outputs": [
    {
     "name": "stdout",
     "output_type": "stream",
     "text": [
      "42\n"
     ]
    }
   ],
   "source": [
    "%%bash\n",
    "\n",
    "echo 42 || echo 21"
   ]
  },
  {
   "attachments": {},
   "cell_type": "markdown",
   "metadata": {},
   "source": [
    "It is important to note that the __&&__ and __||__ operators have a specific order of precedence, and their behavior can be influenced by the use of parentheses."
   ]
  },
  {
   "cell_type": "code",
   "execution_count": 55,
   "metadata": {
    "vscode": {
     "languageId": "shellscript"
    }
   },
   "outputs": [
    {
     "name": "stdout",
     "output_type": "stream",
     "text": [
      "ls: cannot access 'file1.txt': No such file or directory\n",
      "file1.txt does not exist\n"
     ]
    }
   ],
   "source": [
    "!(ls file1.txt && echo \"file1.txt exist\") || echo \"file1.txt does not exist\""
   ]
  },
  {
   "attachments": {},
   "cell_type": "markdown",
   "metadata": {},
   "source": [
    "In this example, if the command __ls file1.txt__ succeeds (i.e., if file1.txt exists), the next command __echo \"file1.txt exists\"__ is executed. Otherwise, if the command __ls file1.txt__ fails (i.e., if file1.txt does not exist), the next command __echo \"file1.txt does not exist\"__ is executed."
   ]
  },
  {
   "cell_type": "code",
   "execution_count": 56,
   "metadata": {
    "vscode": {
     "languageId": "shellscript"
    }
   },
   "outputs": [
    {
     "name": "stdout",
     "output_type": "stream",
     "text": [
      "ls: cannot access 'file1.txt': No such file or directory\n"
     ]
    }
   ],
   "source": [
    "!ls file1.txt && (echo \"file1.txt exist\" || echo \"file1.txt does not exist\")"
   ]
  },
  {
   "attachments": {},
   "cell_type": "markdown",
   "metadata": {},
   "source": [
    "In this example, if the command __ls file1.txt__ succeeds (that is, if file1.txt exists), the next command __echo \"file1.txt exists\" || echo \"file1.txt does not exist\"__ is executed. Since the first command succeeds, the second command is not executed. If the __ls file1.txt__ command fails (i.e., if file1.txt does not exist), the next command __echo \"file1.txt exists\" || echo \"file1.txt does not exist\"__ is still executed, and the message \"file1.txt does not exist\" is printed."
   ]
  },
  {
   "cell_type": "code",
   "execution_count": 71,
   "metadata": {
    "vscode": {
     "languageId": "shellscript"
    }
   },
   "outputs": [
    {
     "name": "stdout",
     "output_type": "stream",
     "text": [
      "1\n"
     ]
    }
   ],
   "source": [
    "%%bash\n",
    "\n",
    "echo 1 || (echo 2 && echo 3)"
   ]
  },
  {
   "attachments": {},
   "cell_type": "markdown",
   "metadata": {},
   "source": [
    "In this example, the command __echo 1__ is executed, which prints the number 1. Because the command succeeds, the commands within the parenthesized command block __echo 2 && echo 3__ are not executed."
   ]
  },
  {
   "cell_type": "code",
   "execution_count": 72,
   "metadata": {
    "vscode": {
     "languageId": "shellscript"
    }
   },
   "outputs": [
    {
     "name": "stdout",
     "output_type": "stream",
     "text": [
      "1\n",
      "3\n"
     ]
    }
   ],
   "source": [
    "%%bash\n",
    "\n",
    "(echo 1 || echo 2) && echo 3"
   ]
  },
  {
   "attachments": {},
   "cell_type": "markdown",
   "metadata": {},
   "source": [
    "In this example, the parenthetical command block __(echo 1 || echo 2)__ is executed, which prints the number 1. Since the command is successful, the next command __echo 3__ is executed, which prints the number 3."
   ]
  },
  {
   "cell_type": "code",
   "execution_count": 73,
   "metadata": {
    "vscode": {
     "languageId": "shellscript"
    }
   },
   "outputs": [
    {
     "name": "stdout",
     "output_type": "stream",
     "text": [
      "1\n",
      "2\n"
     ]
    }
   ],
   "source": [
    "%%bash\n",
    "\n",
    "echo 1 && (echo 2 || (echo 3 && echo 4))"
   ]
  },
  {
   "attachments": {},
   "cell_type": "markdown",
   "metadata": {},
   "source": [
    "In this example, the command __echo 1__ is executed and the result is used as input for the command block inside the brackets. Since the first command inside the brackets, __echo 2__, is successful, the block ends and the result of the outer command __echo 1__ is printed.\n",
    "\n",
    "If the command __echo 2__ inside the brackets had failed, the block of commands inside them __(echo 3 && echo 4)__ would have been executed. In this case, both commands within the second block succeed, so the block ends and the result of the external command __echo 1__ is printed."
   ]
  },
  {
   "cell_type": "code",
   "execution_count": 2,
   "metadata": {
    "vscode": {
     "languageId": "shellscript"
    }
   },
   "outputs": [
    {
     "name": "stdout",
     "output_type": "stream",
     "text": [
      "1\n",
      "2\n",
      "4\n"
     ]
    }
   ],
   "source": [
    "%%bash\n",
    "\n",
    "echo 1 && ((echo 2 || echo 3) && echo 4)"
   ]
  },
  {
   "attachments": {},
   "cell_type": "markdown",
   "metadata": {},
   "source": [
    "In this example, the __echo 1__ command is executed and the result is used as input for the command block inside the brackets. The __echo 2__ command inside the brackets succeeds, so the next block __(echo 2 || echo 3)__ returns the result of the __echo 2__ command. This result is used as input for the final block of commands __(echo 2 || echo 3) && echo 4__. Since the first command in the block __(echo 2 || echo 3)__ is successful, the next command __echo 4__ is executed, which prints the number 4, considered a success. Finally, the result of the external command __echo 1__ is printed.\n",
    "\n",
    "If the __echo 2__ command within the first block of brackets had failed, the __echo 3__ command would have been executed. In this case, the final block of commands __(echo 2 || echo 3) && echo 4__ would not have been executed because the first command would have failed, so the entire block would have failed and the final result would have been considered a failure."
   ]
  },
  {
   "cell_type": "code",
   "execution_count": 5,
   "metadata": {
    "vscode": {
     "languageId": "shellscript"
    }
   },
   "outputs": [
    {
     "name": "stdout",
     "output_type": "stream",
     "text": [
      "1\n",
      "4\n"
     ]
    }
   ],
   "source": [
    "%%bash\n",
    "\n",
    "echo 1 || (echo 2 && echo 3) && echo 4"
   ]
  },
  {
   "attachments": {},
   "cell_type": "markdown",
   "metadata": {},
   "source": [
    "Pay attention to the fact that if there is an OR, and its expression is TRUE, only the next command is not executed, but execution continues, in fact __echo 4__ is executed, because the expression __echo 1 || (echo 2 && echo 3)__ is TRUE"
   ]
  },
  {
   "cell_type": "code",
   "execution_count": 7,
   "metadata": {
    "vscode": {
     "languageId": "shellscript"
    }
   },
   "outputs": [
    {
     "name": "stdout",
     "output_type": "stream",
     "text": [
      "1\n",
      "8\n"
     ]
    }
   ],
   "source": [
    "%%bash\n",
    "\n",
    "echo 1 || ((echo 2 && echo 3) || echo 4 && echo 5 || echo 6) || echo 7 && echo 8"
   ]
  },
  {
   "attachments": {},
   "cell_type": "markdown",
   "metadata": {},
   "source": [
    "Same principle as above, only more articulated."
   ]
  },
  {
   "attachments": {},
   "cell_type": "markdown",
   "metadata": {},
   "source": [
    "## Wildcards\n",
    "\n",
    "---\n",
    "\n",
    "The wildcard character *, also known as the wildcard or asterisk character, is a special character used in Bash and other scripting languages to represent zero or more characters in a string.\n",
    "\n",
    "In Bash, the * character is mainly used with the ls, cp, mv and rm commands to perform operations on groups of files or directories. For example, the ls *.txt command will list all files with the extension .txt in the current directory. The wildcard * can also be used to represent a portion of a word in a variable or string."
   ]
  },
  {
   "cell_type": "code",
   "execution_count": 14,
   "metadata": {
    "vscode": {
     "languageId": "shellscript"
    }
   },
   "outputs": [
    {
     "name": "stdout",
     "output_type": "stream",
     "text": [
      "include lib Makefile minishell src TODO\n"
     ]
    }
   ],
   "source": [
    "%%bash\n",
    "\n",
    "cd ../project\n",
    "\n",
    "echo *\n"
   ]
  },
  {
   "attachments": {},
   "cell_type": "markdown",
   "metadata": {},
   "source": [
    "__*__ then goes to replace everything in the directory, including files and directories."
   ]
  },
  {
   "cell_type": "code",
   "execution_count": 18,
   "metadata": {
    "vscode": {
     "languageId": "shellscript"
    }
   },
   "outputs": [
    {
     "name": "stdout",
     "output_type": "stream",
     "text": [
      "src/lst/lst_add_back.c\n",
      "src/lst/lst_free.c\n",
      "src/lst/lst_free_last.c\n",
      "src/lst/lst_new.c\n",
      "src/lst/lst_set_to_head.c\n",
      "src/lst/lst_set_to_last.c\n"
     ]
    }
   ],
   "source": [
    "%%bash\n",
    "\n",
    "cd ../project\n",
    "\n",
    "ls src/lst/*"
   ]
  },
  {
   "cell_type": "code",
   "execution_count": 19,
   "metadata": {
    "vscode": {
     "languageId": "shellscript"
    }
   },
   "outputs": [
    {
     "name": "stdout",
     "output_type": "stream",
     "text": [
      "include Makefile\n"
     ]
    }
   ],
   "source": [
    "%%bash\n",
    "\n",
    "cd ../project\n",
    "\n",
    "echo *e"
   ]
  },
  {
   "cell_type": "code",
   "execution_count": 20,
   "metadata": {
    "vscode": {
     "languageId": "shellscript"
    }
   },
   "outputs": [
    {
     "name": "stdout",
     "output_type": "stream",
     "text": [
      "include Makefile minishell\n"
     ]
    }
   ],
   "source": [
    "%%bash\n",
    "\n",
    "cd ../project\n",
    "\n",
    "echo *e*"
   ]
  },
  {
   "cell_type": "code",
   "execution_count": 21,
   "metadata": {
    "vscode": {
     "languageId": "shellscript"
    }
   },
   "outputs": [
    {
     "name": "stdout",
     "output_type": "stream",
     "text": [
      "include\n"
     ]
    }
   ],
   "source": [
    "%%bash\n",
    "\n",
    "cd ../project\n",
    "\n",
    "echo i*clu*e"
   ]
  },
  {
   "cell_type": "code",
   "execution_count": 22,
   "metadata": {
    "vscode": {
     "languageId": "shellscript"
    }
   },
   "outputs": [
    {
     "name": "stdout",
     "output_type": "stream",
     "text": [
      "include\n"
     ]
    }
   ],
   "source": [
    "%%bash\n",
    "\n",
    "cd ../project\n",
    "\n",
    "echo i******************************e"
   ]
  },
  {
   "cell_type": "code",
   "execution_count": 23,
   "metadata": {
    "vscode": {
     "languageId": "shellscript"
    }
   },
   "outputs": [
    {
     "name": "stdout",
     "output_type": "stream",
     "text": [
      "42*\n"
     ]
    }
   ],
   "source": [
    "%%bash\n",
    "\n",
    "cd ../project\n",
    "\n",
    "echo 42*"
   ]
  },
  {
   "attachments": {},
   "cell_type": "markdown",
   "metadata": {},
   "source": [
    "If it does not find a match, then it does not replace anything."
   ]
  }
 ],
 "metadata": {
  "kernelspec": {
   "display_name": "Python 3",
   "language": "python",
   "name": "python3"
  },
  "language_info": {
   "codemirror_mode": {
    "name": "ipython",
    "version": 3
   },
   "file_extension": ".py",
   "mimetype": "text/x-python",
   "name": "python",
   "nbconvert_exporter": "python",
   "pygments_lexer": "ipython3",
   "version": "3.10.6"
  },
  "orig_nbformat": 4
 },
 "nbformat": 4,
 "nbformat_minor": 2
}
