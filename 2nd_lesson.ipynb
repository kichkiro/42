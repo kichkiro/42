{
  "nbformat": 4,
  "nbformat_minor": 0,
  "metadata": {
    "colab": {
      "provenance": [],
      "include_colab_link": true
    },
    "kernelspec": {
      "name": "python3",
      "display_name": "Python 3"
    },
    "language_info": {
      "name": "python"
    }
  },
  "cells": [
    {
      "cell_type": "markdown",
      "metadata": {
        "id": "view-in-github",
        "colab_type": "text"
      },
      "source": [
        "<a href=\"https://colab.research.google.com/github/kichkiro/42/blob/main/2nd_lesson.ipynb\" target=\"_parent\"><img src=\"https://colab.research.google.com/assets/colab-badge.svg\" alt=\"Open In Colab\"/></a>"
      ]
    },
    {
      "cell_type": "markdown",
      "source": [
        "# Beyond Hello World, A Computer Vision Example\n",
        "In the previous exercise, you saw how to create a neural network that figured out the problem you were trying to solve. This gave an explicit example of learned behavior. Of course, in that instance, it was a bit of overkill because it would have been easier to write the function `y=2x-1` directly instead of bothering with using machine learning to learn the relationship between `x` and `y`.\n",
        "\n",
        "But what about a scenario where writing rules like that is much more difficult -- like a computer vision problem! \n",
        "\n",
        "Let's take a look at a scenario where you will build a neural network to recognize different items of clothing, trained from a dataset containing 10 different types."
      ],
      "metadata": {
        "id": "pz4-Tlv5tGbA"
      }
    },
    {
      "cell_type": "code",
      "source": [
        "from google.colab import drive\n",
        "drive.mount('/content/drive')"
      ],
      "metadata": {
        "id": "a48WvXLq8RtU"
      },
      "execution_count": null,
      "outputs": []
    },
    {
      "cell_type": "markdown",
      "source": [
        "## Start Coding\n",
        "\n",
        "Import TensorFlow."
      ],
      "metadata": {
        "id": "uMNkUVnivnCf"
      }
    },
    {
      "cell_type": "code",
      "source": [
        "#import TensorFlow as tf\n",
        "import tensorflow as tf\n",
        "\n",
        "print(tf.__version__)"
      ],
      "metadata": {
        "id": "R77eHmjGvs_o",
        "outputId": "507b0457-77bf-47ed-abd2-88e617db90d8",
        "colab": {
          "base_uri": "https://localhost:8080/"
        }
      },
      "execution_count": null,
      "outputs": [
        {
          "output_type": "stream",
          "name": "stdout",
          "text": [
            "2.12.0\n"
          ]
        }
      ]
    },
    {
      "cell_type": "markdown",
      "source": [
        "The [Fashion MNIST dataset](https://github.com/zalandoresearch/fashion-mnist) is a collection of grayscale 28x28 pixel clothing images. \n",
        "\n",
        "Each image is associated with a label as shown in this table:\n",
        "\n",
        "| Label | Description |\n",
        "| --- | --- |\n",
        "| 0 | T-shirt/top |\n",
        "| 1 | Trouser |\n",
        "| 2 | Pullover |\n",
        "| 3 | Dress |\n",
        "| 4 | Coat |\n",
        "| 5 | Sandal |\n",
        "| 6 | Shirt |\n",
        "| 7 | Sneaker |\n",
        "| 8 | Bag |\n",
        "| 9 | Ankle boot |\n",
        "\n",
        "This dataset is available directly in the [tf.keras.datasets](https://www.tensorflow.org/api_docs/python/tf/keras/datasets) API and you load dataset by writing this code:\n"
      ],
      "metadata": {
        "id": "UT7u8VK_vzdx"
      }
    },
    {
      "cell_type": "code",
      "source": [
        "# Load the Fashion MNIST dataset\n",
        "fmnist = tf.keras.datasets.fashion_mnist"
      ],
      "metadata": {
        "id": "FpsVPfDowH-d"
      },
      "execution_count": null,
      "outputs": []
    },
    {
      "cell_type": "markdown",
      "source": [
        "By calling `load_data()` on ***fmnist*** (the name we gave to our data) it will give you two tuples with two lists each. \n",
        "\n",
        "These will be the training and testing values for the graphics that contain the clothing items and their labels.\n"
      ],
      "metadata": {
        "id": "WAmXiAyqwPCp"
      }
    },
    {
      "cell_type": "code",
      "source": [
        "# Load the training and test split of the Fashion MNIST dataset (training and test images and labels)\n",
        "(train_images, train_labels), (test_images, test_labels) = fmnist.load_data()"
      ],
      "metadata": {
        "id": "gEO0CIfRwWR5"
      },
      "execution_count": null,
      "outputs": []
    },
    {
      "cell_type": "markdown",
      "source": [
        "Let's print a **training image** (both as an image and a numpy array), and a **training label** to see the way they look. \n",
        "\n",
        "Change Index just for fun: take a look at index `42`. That's a different boot than the one at index `0`.\n"
      ],
      "metadata": {
        "id": "WnxTo6Gtwqz9"
      }
    },
    {
      "cell_type": "code",
      "source": [
        "#import Numpy as np\n",
        "#import Matplotlib.pyplot as plt\n",
        "import numpy as np\n",
        "import matplotlib.pyplot as plt\n",
        "\n",
        "# set index, You can put between 0 to 59999 here\n",
        "index = 0\n",
        "\n",
        "# Set number of characters per row when printing\n",
        "np.set_printoptions(linewidth = 340)\n",
        "\n",
        "# Print the label and image\n",
        "print(f'LABEL: {train_labels[index]}')\n",
        "print(f'\\nIMAGE PIXEL ARRAY:\\n {train_images[index]}')\n",
        "\n",
        "# Visualize the image\n",
        "plt.imshow(train_images[index], cmap = 'Greys')\n"
      ],
      "metadata": {
        "id": "tMPPpEFewyOR"
      },
      "execution_count": null,
      "outputs": []
    },
    {
      "cell_type": "markdown",
      "source": [
        "Values in the number are between 0 and 255. If you are training a neural network especially in image processing, it will usually learn better if you scale all values to between 0 and 1. It's a process called **_normalization_**. In Python, it's easy to normalize an array without looping. You do it like this:"
      ],
      "metadata": {
        "id": "s4Tg3LLuw6Gp"
      }
    },
    {
      "cell_type": "code",
      "source": [
        "# Normalize the pixel values of the train and test images\n",
        "train_images = train_images / 255.0\n",
        "test_images = test_images / 255.0"
      ],
      "metadata": {
        "id": "CQl3pUkUxDmL"
      },
      "execution_count": null,
      "outputs": []
    },
    {
      "cell_type": "markdown",
      "source": [
        "Why the dataset is split into two: training and testing? \n",
        "\n",
        "To have 1 set of data for training, and then another set of data that the model hasn't yet seen. \n",
        "\n",
        "The test data will be used to evaluate how good it would be at classifying values."
      ],
      "metadata": {
        "id": "qlB5XA5OxKgZ"
      }
    },
    {
      "cell_type": "markdown",
      "source": [
        "Design the model!"
      ],
      "metadata": {
        "id": "O_P7O-301Kpp"
      }
    },
    {
      "cell_type": "code",
      "source": [
        "# Build the classification model\n",
        "model = tf.keras.models.Sequential([tf.keras.layers.Flatten(input_shape = (28,28)),\n",
        "                                   tf.keras.layers.Dense(128, activation= 'relu'),\n",
        "                                   tf.keras.layers.Dense(10, activation = 'softmax')])"
      ],
      "metadata": {
        "id": "D_y126dd1WaL"
      },
      "execution_count": null,
      "outputs": []
    },
    {
      "cell_type": "markdown",
      "source": [
        "[Sequential](https://keras.io/api/models/sequential/): Defines a sequence of layers in the neural network.\n",
        "\n",
        "[Flatten](https://keras.io/api/layers/reshaping_layers/flatten/): Our images were a 28x28 pixel matrix. **Flatten** just takes that square and turns it into a 1-dimensional array.\n",
        "\n",
        "[Dense](https://keras.io/api/layers/core_layers/dense/): Adds a layer of neurons\n",
        "\n",
        "Each layer of neurons need an [activation function](https://keras.io/api/layers/activations/) to tell them what to do. There are a lot of options, but just use these for now: \n",
        "\n",
        "[ReLU](https://keras.io/api/layers/activations/#relu-function) effectively means:\n",
        "\n",
        "```\n",
        "if x > 0: \n",
        "  return x\n",
        "\n",
        "else: \n",
        "  return 0\n",
        "```\n",
        "\n",
        "It only passes values greater than 0 to the next layer in the network.\n",
        "\n",
        "[Softmax](https://keras.io/api/layers/activations/#softmax-function) takes a list of values and scales these so the sum of all elements will be equal to 1. When applied to model outputs, you can think of the scaled values as the probability for that class."
      ],
      "metadata": {
        "id": "QjrNC55W1m0R"
      }
    },
    {
      "cell_type": "markdown",
      "source": [
        "Now we compile the model. \n",
        "\n",
        "We have Optimizer and loss function as before \n",
        "\n",
        "You train it by calling **model.fit()** asking it to fit your training data to your training labels. \n",
        "\n",
        "It will figure out the relationship between the training data and its actual labels so in the future if you have inputs that looks like the training data, then it can predict what the label for that input is."
      ],
      "metadata": {
        "id": "jYDwJWjE2-Q-"
      }
    },
    {
      "cell_type": "code",
      "source": [
        "#complie the model with optimizer, loss and metrics\n",
        "#fit the trining images and labels to the model, and set epochs to 5\n",
        "model.compile(optimizer = 'Adam',\n",
        "              loss = 'sparse_categorical_crossentropy',\n",
        "              metrics = ['accuracy'])\n",
        "\n",
        "model.fit(train_images, train_labels, epochs = 5)"
      ],
      "metadata": {
        "id": "l0qMdoHM3p4O"
      },
      "execution_count": null,
      "outputs": []
    },
    {
      "cell_type": "markdown",
      "source": [
        "Once it's done training -- you should see an accuracy value at the end of the final epoch.\n",
        "\n",
        "This tells you have well the classification has been done on traning data.\n",
        "\n",
        "This means that it figured out a pattern match between the image and the labels that worked around %% of the time. Not great, but not bad considering it was only trained for 5 epochs and done quite quickly."
      ],
      "metadata": {
        "id": "dq0_Qh1D4QmD"
      }
    },
    {
      "cell_type": "markdown",
      "source": [
        "Now let's see how will our model perform on never seen data. This test tells us more about our model.\n",
        "\n",
        "We will now fit the test data on the model.\n",
        "\n",
        "We can call **model.evaluate()** with this test dataset as inputs and it will report back the loss and accuracy of the model."
      ],
      "metadata": {
        "id": "binuwUca4xKW"
      }
    },
    {
      "cell_type": "code",
      "source": [
        "# Evaluate the model on unseen data\n",
        "model.evaluate(test_images, test_labels)"
      ],
      "metadata": {
        "id": "KHqhgFWi5QKM"
      },
      "execution_count": null,
      "outputs": []
    },
    {
      "cell_type": "markdown",
      "source": [
        "As you can see here the accuracy is lower, and loss is higher. This is normal and expected as this is the data our model has never seen.\n",
        "\n",
        "The main goal of the data scientes is to get accuarcy higher and loss lower by tweaking the models.  "
      ],
      "metadata": {
        "id": "EQL-6o3H5V4T"
      }
    }
  ]
}